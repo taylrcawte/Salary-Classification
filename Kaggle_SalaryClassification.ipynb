{
 "cells": [
  {
   "cell_type": "markdown",
   "metadata": {},
   "source": [
    "# Data Science Salary Classification  "
   ]
  },
  {
   "cell_type": "markdown",
   "metadata": {},
   "source": [
    "## Introduction"
   ]
  },
  {
   "cell_type": "markdown",
   "metadata": {},
   "source": [
    "The below report attempts to build an <b> ordinal logistic regression model </b> capable of multiclass classification of salaries from proffesionals in the datascience field. The original data set can be found on Kaggle under \"2019 Kaggle ML & DS Survey Challenge.\", and was provided by kaggle for use in their competition of the same name.\n",
    "\n",
    "The data set first undergoes an initial data cleaning and an exploratory data analysis. Trends in the data are observed, the feature importance is determined, and the data is visualized in order to inform the reader on which features may dictacte the salary outcome. 3 plots are presented to display important trends in salary class distribution based on education level, gender, and job title. The final 4th plot is presented to illustrate correlation of important features to the dependent variable i.e. salary class. Lastly, a lasso regression method is used to reduce model complexity and determine the final features that should be used in the model.\n",
    "\n",
    "Next, an initial ordinal logistic regression model is constructed to analyze the baseline performance of the model. The <b> ordinal logistic model </b> was unsuccesful at predicting the probabillity of belonging to a salary class. In order to evaluate the effectiveness of multiclass classification a <b> multivariate logistic regression model </b> is subsequently constructed and analyzed. The multiclass logisitic regression model is subjected to 10 fold cross validation and hyperparameter tuning through grid search. The best performing multiclass logistic regression model was found to be the 'newton-cg' solver, with a hyperparamter of 0.05, which acheived a maximum accuracy of ~32%. It is clear that the multiclass classifier was not able to sufficiently predict salary class. Finally to illustrate the capabilities of logisitc regression a <b> one-vs-rest approach </b> was taken, in an attempt to classify the most difficult salary categories. This model was able to achieve an accuracy of above 90% in all cases. "
   ]
  },
  {
   "cell_type": "markdown",
   "metadata": {},
   "source": [
    "## Ordinal Logistic Regression Model  "
   ]
  },
  {
   "cell_type": "markdown",
   "metadata": {},
   "source": [
    "### Library imports "
   ]
  },
  {
   "cell_type": "code",
   "execution_count": 2,
   "metadata": {},
   "outputs": [],
   "source": [
    "# import standard libraries\n",
    "import pandas as pd\n",
    "import matplotlib.pyplot as plt\n",
    "import numpy as np\n",
    "import seaborn as sns\n",
    "import warnings\n",
    "\n",
    "# import sklearn libraries\n",
    "from sklearn.model_selection import train_test_split\n",
    "from sklearn.linear_model import LogisticRegression\n",
    "from sklearn.linear_model import Lasso\n",
    "from sklearn.preprocessing import StandardScaler\n",
    "from sklearn.model_selection import learning_curve\n",
    "from sklearn.model_selection import KFold\n",
    "from sklearn.metrics import accuracy_score, mean_squared_error\n",
    "\n",
    "# ignore the haters (aka warnings)\n",
    "warnings.filterwarnings('ignore')\n",
    "%matplotlib inline"
   ]
  },
  {
   "cell_type": "markdown",
   "metadata": {},
   "source": [
    "The data is read into the program, and stored in a dataframe."
   ]
  },
  {
   "cell_type": "code",
   "execution_count": 3,
   "metadata": {},
   "outputs": [
    {
     "name": "stdout",
     "output_type": "stream",
     "text": [
      "<class 'pandas.core.frame.DataFrame'>\n",
      "Int64Index: 12497 entries, 510 to 567\n",
      "Columns: 247 entries, Q1 to Q10_buckets\n",
      "dtypes: int64(29), object(218)\n",
      "memory usage: 23.6+ MB\n"
     ]
    },
    {
     "data": {
      "text/html": [
       "<div>\n",
       "<style scoped>\n",
       "    .dataframe tbody tr th:only-of-type {\n",
       "        vertical-align: middle;\n",
       "    }\n",
       "\n",
       "    .dataframe tbody tr th {\n",
       "        vertical-align: top;\n",
       "    }\n",
       "\n",
       "    .dataframe thead th {\n",
       "        text-align: right;\n",
       "    }\n",
       "</style>\n",
       "<table border=\"1\" class=\"dataframe\">\n",
       "  <thead>\n",
       "    <tr style=\"text-align: right;\">\n",
       "      <th></th>\n",
       "      <th>Q1</th>\n",
       "      <th>Q2</th>\n",
       "      <th>Q2_OTHER_TEXT</th>\n",
       "      <th>Q3</th>\n",
       "      <th>Q4</th>\n",
       "      <th>Q5</th>\n",
       "      <th>Q5_OTHER_TEXT</th>\n",
       "      <th>Q6</th>\n",
       "      <th>Q7</th>\n",
       "      <th>Q8</th>\n",
       "      <th>...</th>\n",
       "      <th>Q34_Part_6</th>\n",
       "      <th>Q34_Part_7</th>\n",
       "      <th>Q34_Part_8</th>\n",
       "      <th>Q34_Part_9</th>\n",
       "      <th>Q34_Part_10</th>\n",
       "      <th>Q34_Part_11</th>\n",
       "      <th>Q34_Part_12</th>\n",
       "      <th>Q34_OTHER_TEXT</th>\n",
       "      <th>Q10_Encoded</th>\n",
       "      <th>Q10_buckets</th>\n",
       "    </tr>\n",
       "    <tr>\n",
       "      <th>Time from Start to Finish (seconds)</th>\n",
       "      <th></th>\n",
       "      <th></th>\n",
       "      <th></th>\n",
       "      <th></th>\n",
       "      <th></th>\n",
       "      <th></th>\n",
       "      <th></th>\n",
       "      <th></th>\n",
       "      <th></th>\n",
       "      <th></th>\n",
       "      <th></th>\n",
       "      <th></th>\n",
       "      <th></th>\n",
       "      <th></th>\n",
       "      <th></th>\n",
       "      <th></th>\n",
       "      <th></th>\n",
       "      <th></th>\n",
       "      <th></th>\n",
       "      <th></th>\n",
       "      <th></th>\n",
       "    </tr>\n",
       "  </thead>\n",
       "  <tbody>\n",
       "    <tr>\n",
       "      <td>510</td>\n",
       "      <td>22-24</td>\n",
       "      <td>Male</td>\n",
       "      <td>-1</td>\n",
       "      <td>France</td>\n",
       "      <td>Master’s degree</td>\n",
       "      <td>Software Engineer</td>\n",
       "      <td>-1</td>\n",
       "      <td>1000-9,999 employees</td>\n",
       "      <td>0</td>\n",
       "      <td>I do not know</td>\n",
       "      <td>...</td>\n",
       "      <td>NaN</td>\n",
       "      <td>NaN</td>\n",
       "      <td>NaN</td>\n",
       "      <td>NaN</td>\n",
       "      <td>NaN</td>\n",
       "      <td>NaN</td>\n",
       "      <td>NaN</td>\n",
       "      <td>-1</td>\n",
       "      <td>3</td>\n",
       "      <td>30,000-39,999</td>\n",
       "    </tr>\n",
       "    <tr>\n",
       "      <td>423</td>\n",
       "      <td>40-44</td>\n",
       "      <td>Male</td>\n",
       "      <td>-1</td>\n",
       "      <td>India</td>\n",
       "      <td>Professional degree</td>\n",
       "      <td>Software Engineer</td>\n",
       "      <td>-1</td>\n",
       "      <td>&gt; 10,000 employees</td>\n",
       "      <td>20+</td>\n",
       "      <td>We have well established ML methods (i.e., mod...</td>\n",
       "      <td>...</td>\n",
       "      <td>NaN</td>\n",
       "      <td>NaN</td>\n",
       "      <td>NaN</td>\n",
       "      <td>NaN</td>\n",
       "      <td>NaN</td>\n",
       "      <td>NaN</td>\n",
       "      <td>NaN</td>\n",
       "      <td>-1</td>\n",
       "      <td>0</td>\n",
       "      <td>0-9,999</td>\n",
       "    </tr>\n",
       "    <tr>\n",
       "      <td>391</td>\n",
       "      <td>40-44</td>\n",
       "      <td>Male</td>\n",
       "      <td>-1</td>\n",
       "      <td>Australia</td>\n",
       "      <td>Master’s degree</td>\n",
       "      <td>Other</td>\n",
       "      <td>0</td>\n",
       "      <td>&gt; 10,000 employees</td>\n",
       "      <td>20+</td>\n",
       "      <td>I do not know</td>\n",
       "      <td>...</td>\n",
       "      <td>NaN</td>\n",
       "      <td>NaN</td>\n",
       "      <td>NaN</td>\n",
       "      <td>Azure SQL Database</td>\n",
       "      <td>NaN</td>\n",
       "      <td>NaN</td>\n",
       "      <td>NaN</td>\n",
       "      <td>-1</td>\n",
       "      <td>14</td>\n",
       "      <td>&gt;250,000</td>\n",
       "    </tr>\n",
       "    <tr>\n",
       "      <td>392</td>\n",
       "      <td>22-24</td>\n",
       "      <td>Male</td>\n",
       "      <td>-1</td>\n",
       "      <td>India</td>\n",
       "      <td>Bachelor’s degree</td>\n",
       "      <td>Other</td>\n",
       "      <td>1</td>\n",
       "      <td>0-49 employees</td>\n",
       "      <td>0</td>\n",
       "      <td>No (we do not use ML methods)</td>\n",
       "      <td>...</td>\n",
       "      <td>NaN</td>\n",
       "      <td>NaN</td>\n",
       "      <td>NaN</td>\n",
       "      <td>NaN</td>\n",
       "      <td>NaN</td>\n",
       "      <td>NaN</td>\n",
       "      <td>NaN</td>\n",
       "      <td>-1</td>\n",
       "      <td>0</td>\n",
       "      <td>0-9,999</td>\n",
       "    </tr>\n",
       "    <tr>\n",
       "      <td>470</td>\n",
       "      <td>50-54</td>\n",
       "      <td>Male</td>\n",
       "      <td>-1</td>\n",
       "      <td>France</td>\n",
       "      <td>Master’s degree</td>\n",
       "      <td>Data Scientist</td>\n",
       "      <td>-1</td>\n",
       "      <td>0-49 employees</td>\n",
       "      <td>3-4</td>\n",
       "      <td>We have well established ML methods (i.e., mod...</td>\n",
       "      <td>...</td>\n",
       "      <td>NaN</td>\n",
       "      <td>AWS Relational Database Service</td>\n",
       "      <td>NaN</td>\n",
       "      <td>NaN</td>\n",
       "      <td>NaN</td>\n",
       "      <td>NaN</td>\n",
       "      <td>NaN</td>\n",
       "      <td>-1</td>\n",
       "      <td>6</td>\n",
       "      <td>60,000-69,999</td>\n",
       "    </tr>\n",
       "  </tbody>\n",
       "</table>\n",
       "<p>5 rows × 247 columns</p>\n",
       "</div>"
      ],
      "text/plain": [
       "                                        Q1    Q2  Q2_OTHER_TEXT         Q3  \\\n",
       "Time from Start to Finish (seconds)                                          \n",
       "510                                  22-24  Male             -1     France   \n",
       "423                                  40-44  Male             -1      India   \n",
       "391                                  40-44  Male             -1  Australia   \n",
       "392                                  22-24  Male             -1      India   \n",
       "470                                  50-54  Male             -1     France   \n",
       "\n",
       "                                                      Q4                 Q5  \\\n",
       "Time from Start to Finish (seconds)                                           \n",
       "510                                      Master’s degree  Software Engineer   \n",
       "423                                  Professional degree  Software Engineer   \n",
       "391                                      Master’s degree              Other   \n",
       "392                                    Bachelor’s degree              Other   \n",
       "470                                      Master’s degree     Data Scientist   \n",
       "\n",
       "                                     Q5_OTHER_TEXT                    Q6   Q7  \\\n",
       "Time from Start to Finish (seconds)                                             \n",
       "510                                             -1  1000-9,999 employees    0   \n",
       "423                                             -1    > 10,000 employees  20+   \n",
       "391                                              0    > 10,000 employees  20+   \n",
       "392                                              1        0-49 employees    0   \n",
       "470                                             -1        0-49 employees  3-4   \n",
       "\n",
       "                                                                                    Q8  \\\n",
       "Time from Start to Finish (seconds)                                                      \n",
       "510                                                                      I do not know   \n",
       "423                                  We have well established ML methods (i.e., mod...   \n",
       "391                                                                      I do not know   \n",
       "392                                                      No (we do not use ML methods)   \n",
       "470                                  We have well established ML methods (i.e., mod...   \n",
       "\n",
       "                                     ... Q34_Part_6  \\\n",
       "Time from Start to Finish (seconds)  ...              \n",
       "510                                  ...        NaN   \n",
       "423                                  ...        NaN   \n",
       "391                                  ...        NaN   \n",
       "392                                  ...        NaN   \n",
       "470                                  ...        NaN   \n",
       "\n",
       "                                                          Q34_Part_7  \\\n",
       "Time from Start to Finish (seconds)                                    \n",
       "510                                                              NaN   \n",
       "423                                                              NaN   \n",
       "391                                                              NaN   \n",
       "392                                                              NaN   \n",
       "470                                  AWS Relational Database Service   \n",
       "\n",
       "                                    Q34_Part_8          Q34_Part_9  \\\n",
       "Time from Start to Finish (seconds)                                  \n",
       "510                                        NaN                 NaN   \n",
       "423                                        NaN                 NaN   \n",
       "391                                        NaN  Azure SQL Database   \n",
       "392                                        NaN                 NaN   \n",
       "470                                        NaN                 NaN   \n",
       "\n",
       "                                    Q34_Part_10 Q34_Part_11 Q34_Part_12  \\\n",
       "Time from Start to Finish (seconds)                                       \n",
       "510                                         NaN         NaN         NaN   \n",
       "423                                         NaN         NaN         NaN   \n",
       "391                                         NaN         NaN         NaN   \n",
       "392                                         NaN         NaN         NaN   \n",
       "470                                         NaN         NaN         NaN   \n",
       "\n",
       "                                    Q34_OTHER_TEXT  Q10_Encoded    Q10_buckets  \n",
       "Time from Start to Finish (seconds)                                             \n",
       "510                                             -1            3  30,000-39,999  \n",
       "423                                             -1            0        0-9,999  \n",
       "391                                             -1           14       >250,000  \n",
       "392                                             -1            0        0-9,999  \n",
       "470                                             -1            6  60,000-69,999  \n",
       "\n",
       "[5 rows x 247 columns]"
      ]
     },
     "execution_count": 3,
     "metadata": {},
     "output_type": "execute_result"
    }
   ],
   "source": [
    "# read in data\n",
    "url = 'https://raw.githubusercontent.com/taylrcawte/Salary-Classification/master/Kaggle_Salary.csv'\n",
    "data = pd.read_csv(url, index_col=0)\n",
    "data.info()\n",
    "\n",
    "salData = data.copy()\n",
    "salData.head()"
   ]
  },
  {
   "cell_type": "markdown",
   "metadata": {},
   "source": [
    "### Data Cleaning and Null Removal\n",
    "\n",
    "Next the data undergoes an initial data analysis and cleaning phase. First the data is checked for null values visually through the use of a heatplot. The heatplot shows which portions of the data are null (white) and which questions have been responded to (black). "
   ]
  },
  {
   "cell_type": "code",
   "execution_count": 4,
   "metadata": {},
   "outputs": [
    {
     "data": {
      "image/png": "[encoded data removed]",
      "text/plain": [
       "<Figure size 432x288 with 2 Axes>"
      ]
     },
     "metadata": {
      "needs_background": "light"
     },
     "output_type": "display_data"
    }
   ],
   "source": [
    "# ----------------------------------------------------------------------------------#\n",
    "# Initial data cleaning #\n",
    "# ----------------------------------------------------------------------------------#\n",
    "plt.figure()\n",
    "chart = sns.heatmap(salData.isnull())  # heatmap of all null values\n",
    "chart.set_xticklabels(chart.get_xticklabels(), rotation=70, horizontalalignment='right')\n",
    "plt.title('Heatmap of Null Values before Data Cleaning')\n",
    "plt.show()\n"
   ]
  },
  {
   "cell_type": "markdown",
   "metadata": {},
   "source": [
    "Columns with less than an 85% response rate were removed, along with features that didn't pertain to the respondant. An 85% response threshold was selected as this was the standard presented in class. Features were removed that did not pertain to the respondant, these features included; features with 'TEXT' in the title, the time it took to complete the survey, and question 19. After these features were removed the remaining rows with 'null' values were removed row-wise.  "
   ]
  },
  {
   "cell_type": "code",
   "execution_count": 4,
   "metadata": {},
   "outputs": [
    {
     "data": {
      "text/html": [
       "<div>\n",
       "<style scoped>\n",
       "    .dataframe tbody tr th:only-of-type {\n",
       "        vertical-align: middle;\n",
       "    }\n",
       "\n",
       "    .dataframe tbody tr th {\n",
       "        vertical-align: top;\n",
       "    }\n",
       "\n",
       "    .dataframe thead th {\n",
       "        text-align: right;\n",
       "    }\n",
       "</style>\n",
       "<table border=\"1\" class=\"dataframe\">\n",
       "  <thead>\n",
       "    <tr style=\"text-align: right;\">\n",
       "      <th></th>\n",
       "      <th>Q1</th>\n",
       "      <th>Q2</th>\n",
       "      <th>Q3</th>\n",
       "      <th>Q4</th>\n",
       "      <th>Q5</th>\n",
       "      <th>Q6</th>\n",
       "      <th>Q7</th>\n",
       "      <th>Q8</th>\n",
       "      <th>Q10</th>\n",
       "      <th>Q11</th>\n",
       "      <th>Q14</th>\n",
       "      <th>Q15</th>\n",
       "      <th>Q10_Encoded</th>\n",
       "      <th>Q10_buckets</th>\n",
       "    </tr>\n",
       "  </thead>\n",
       "  <tbody>\n",
       "    <tr>\n",
       "      <td>0</td>\n",
       "      <td>22-24</td>\n",
       "      <td>Male</td>\n",
       "      <td>France</td>\n",
       "      <td>Master’s degree</td>\n",
       "      <td>Software Engineer</td>\n",
       "      <td>1000-9,999 employees</td>\n",
       "      <td>0</td>\n",
       "      <td>I do not know</td>\n",
       "      <td>30,000-39,999</td>\n",
       "      <td>$0 (USD)</td>\n",
       "      <td>Basic statistical software (Microsoft Excel, G...</td>\n",
       "      <td>1-2 years</td>\n",
       "      <td>3</td>\n",
       "      <td>30,000-39,999</td>\n",
       "    </tr>\n",
       "    <tr>\n",
       "      <td>1</td>\n",
       "      <td>40-44</td>\n",
       "      <td>Male</td>\n",
       "      <td>India</td>\n",
       "      <td>Professional degree</td>\n",
       "      <td>Software Engineer</td>\n",
       "      <td>&gt; 10,000 employees</td>\n",
       "      <td>20+</td>\n",
       "      <td>We have well established ML methods (i.e., mod...</td>\n",
       "      <td>5,000-7,499</td>\n",
       "      <td>&gt; $100,000 ($USD)</td>\n",
       "      <td>Cloud-based data software &amp; APIs (AWS, GCP, Az...</td>\n",
       "      <td>I have never written code</td>\n",
       "      <td>0</td>\n",
       "      <td>0-9,999</td>\n",
       "    </tr>\n",
       "    <tr>\n",
       "      <td>2</td>\n",
       "      <td>40-44</td>\n",
       "      <td>Male</td>\n",
       "      <td>Australia</td>\n",
       "      <td>Master’s degree</td>\n",
       "      <td>Other</td>\n",
       "      <td>&gt; 10,000 employees</td>\n",
       "      <td>20+</td>\n",
       "      <td>I do not know</td>\n",
       "      <td>250,000-299,999</td>\n",
       "      <td>$10,000-$99,999</td>\n",
       "      <td>Local development environments (RStudio, Jupyt...</td>\n",
       "      <td>1-2 years</td>\n",
       "      <td>14</td>\n",
       "      <td>&gt;250,000</td>\n",
       "    </tr>\n",
       "    <tr>\n",
       "      <td>3</td>\n",
       "      <td>22-24</td>\n",
       "      <td>Male</td>\n",
       "      <td>India</td>\n",
       "      <td>Bachelor’s degree</td>\n",
       "      <td>Other</td>\n",
       "      <td>0-49 employees</td>\n",
       "      <td>0</td>\n",
       "      <td>No (we do not use ML methods)</td>\n",
       "      <td>4,000-4,999</td>\n",
       "      <td>$0 (USD)</td>\n",
       "      <td>Local development environments (RStudio, Jupyt...</td>\n",
       "      <td>&lt; 1 years</td>\n",
       "      <td>0</td>\n",
       "      <td>0-9,999</td>\n",
       "    </tr>\n",
       "    <tr>\n",
       "      <td>4</td>\n",
       "      <td>50-54</td>\n",
       "      <td>Male</td>\n",
       "      <td>France</td>\n",
       "      <td>Master’s degree</td>\n",
       "      <td>Data Scientist</td>\n",
       "      <td>0-49 employees</td>\n",
       "      <td>3-4</td>\n",
       "      <td>We have well established ML methods (i.e., mod...</td>\n",
       "      <td>60,000-69,999</td>\n",
       "      <td>$10,000-$99,999</td>\n",
       "      <td>Advanced statistical software (SPSS, SAS, etc.)</td>\n",
       "      <td>20+ years</td>\n",
       "      <td>6</td>\n",
       "      <td>60,000-69,999</td>\n",
       "    </tr>\n",
       "  </tbody>\n",
       "</table>\n",
       "</div>"
      ],
      "text/plain": [
       "      Q1    Q2         Q3                   Q4                 Q5  \\\n",
       "0  22-24  Male     France      Master’s degree  Software Engineer   \n",
       "1  40-44  Male      India  Professional degree  Software Engineer   \n",
       "2  40-44  Male  Australia      Master’s degree              Other   \n",
       "3  22-24  Male      India    Bachelor’s degree              Other   \n",
       "4  50-54  Male     France      Master’s degree     Data Scientist   \n",
       "\n",
       "                     Q6   Q7  \\\n",
       "0  1000-9,999 employees    0   \n",
       "1    > 10,000 employees  20+   \n",
       "2    > 10,000 employees  20+   \n",
       "3        0-49 employees    0   \n",
       "4        0-49 employees  3-4   \n",
       "\n",
       "                                                  Q8              Q10  \\\n",
       "0                                      I do not know    30,000-39,999   \n",
       "1  We have well established ML methods (i.e., mod...      5,000-7,499   \n",
       "2                                      I do not know  250,000-299,999   \n",
       "3                      No (we do not use ML methods)      4,000-4,999   \n",
       "4  We have well established ML methods (i.e., mod...    60,000-69,999   \n",
       "\n",
       "                 Q11                                                Q14  \\\n",
       "0           $0 (USD)  Basic statistical software (Microsoft Excel, G...   \n",
       "1  > $100,000 ($USD)  Cloud-based data software & APIs (AWS, GCP, Az...   \n",
       "2    $10,000-$99,999  Local development environments (RStudio, Jupyt...   \n",
       "3           $0 (USD)  Local development environments (RStudio, Jupyt...   \n",
       "4    $10,000-$99,999    Advanced statistical software (SPSS, SAS, etc.)   \n",
       "\n",
       "                         Q15  Q10_Encoded    Q10_buckets  \n",
       "0                  1-2 years            3  30,000-39,999  \n",
       "1  I have never written code            0        0-9,999  \n",
       "2                  1-2 years           14       >250,000  \n",
       "3                  < 1 years            0        0-9,999  \n",
       "4                  20+ years            6  60,000-69,999  "
      ]
     },
     "execution_count": 4,
     "metadata": {},
     "output_type": "execute_result"
    }
   ],
   "source": [
    "salData.dropna(thresh=salData.shape[0] * 0.85, how='all', axis=1, inplace=True)  # drop column with lower than 85% resp\n",
    "salData.drop(list(salData.filter(regex='TEXT')), axis=1, inplace=True)  # drop any 'OTHER_TEXT' column\n",
    "salData.drop('Time from Start to Finish (seconds)', axis=1, inplace=True)  # drop completion time\n",
    "salData.drop('Q19', axis=1, inplace=True)  # drop Q19 because the subject matter does not pertain to respondant\n",
    "salData.dropna(inplace=True)  # remove remaining rows with null values\n",
    "\n",
    "salData.head()"
   ]
  },
  {
   "cell_type": "markdown",
   "metadata": {},
   "source": [
    "To ensure that all null values have been removed the heatplot is generated again, this time it should look like one solid colour to indicate no null values. "
   ]
  },
  {
   "cell_type": "code",
   "execution_count": 5,
   "metadata": {},
   "outputs": [
    {
     "data": {
      "image/png": "[encoded data removed]",
      "text/plain": [
       "<Figure size 432x288 with 2 Axes>"
      ]
     },
     "metadata": {
      "needs_background": "light"
     },
     "output_type": "display_data"
    }
   ],
   "source": [
    "plt.figure()\n",
    "sns.heatmap(salData.isnull())  # check remaining null values\n",
    "plt.title('Heatmap of Null Values After Data Cleaning')\n",
    "plt.show()\n"
   ]
  },
  {
   "cell_type": "markdown",
   "metadata": {},
   "source": [
    "### Data Exploration and Feature Selection"
   ]
  },
  {
   "cell_type": "markdown",
   "metadata": {},
   "source": [
    "The data undergoes an initial data exploration, and the most important features are selected. Below depicts the distribution of salary based on gender, the mean salary based on education level, and finally the mean salary class based on job title. "
   ]
  },
  {
   "cell_type": "code",
   "execution_count": 6,
   "metadata": {},
   "outputs": [
    {
     "data": {
      "image/png": "[encoded data removed]",
      "text/plain": [
       "<Figure size 432x288 with 1 Axes>"
      ]
     },
     "metadata": {
      "needs_background": "light"
     },
     "output_type": "display_data"
    },
    {
     "data": {
      "image/png": "[encoded data removed]",
      "text/plain": [
       "<Figure size 432x288 with 1 Axes>"
      ]
     },
     "metadata": {
      "needs_background": "light"
     },
     "output_type": "display_data"
    },
    {
     "data": {
      "image/png": "[encoded data removed]",
      "text/plain": [
       "<Figure size 432x288 with 1 Axes>"
      ]
     },
     "metadata": {
      "needs_background": "light"
     },
     "output_type": "display_data"
    }
   ],
   "source": [
    "# ----------------------------------------------------------------------------------#\n",
    "# data exploration #\n",
    "# ----------------------------------------------------------------------------------#\n",
    "\n",
    "# show frequency of response as a function of income and gender\n",
    "plt.figure()\n",
    "chart = sns.countplot(x='Q10_Encoded', data=salData[~salData['Q2'].isin(['Prefer not to say',\n",
    "                                                                         'Prefer to self-describe'])], hue='Q2')\n",
    "plt.title('Salary Distribution as a Function of Gender')\n",
    "plt.xlabel('Salary Bin')\n",
    "plt.ylabel('Response Count')\n",
    "plt.show()\n",
    "\n",
    "# show average salary distribution as  a function of eduction level\n",
    "viz = salData[['Q4', 'Q10']]\n",
    "viz['Q10'] = viz['Q10'].map({'$0-999': 1000, '1,000-1,999': 2000, '2,000-2,999': 3000, '3,000-3,999': 4000,\n",
    "                             '4,000-4,999': 5000, '5,000-7,499': 7500, '7,500-9,999': 10000, '10,000-14,999': 15000,\n",
    "                             '15,000-19,999': 20000, '20,000-24,999': 25000, '25,000-29,999': 30000,\n",
    "                             '30,000-39,999': 40000, '40,000-49,999': 50000, '50,000-59,999': 60000,\n",
    "                             '60,000-69,999': 70000, '70,000-79,999': 80000, '80,000-89,999': 90000,\n",
    "                             '90,000-99,999': 100000, '100,000-124,999': 125000, '125,000-149,999': 150000,\n",
    "                             '150,000-199,999': 200000, '200,000-249,999': 250000, '250,000-299,999': 300000,\n",
    "                             '300,000-500,000': 400000, '> $500,000': 500000})\n",
    "\n",
    "bachelorSalVal = np.array(viz[viz['Q4'] == 'Bachelor’s degree']['Q10'].values)\n",
    "masterSalVal = np.array(viz[viz['Q4'] == 'Master’s degree']['Q10'].values)\n",
    "docSalVal = np.array(viz[viz['Q4'] == 'Doctoral degree']['Q10'].values)\n",
    "\n",
    "n = 1000\n",
    "m = 10000\n",
    "nBach = len(bachelorSalVal)\n",
    "nMast = len(masterSalVal)\n",
    "nDoc = len(docSalVal)\n",
    "\n",
    "bachAvg = []\n",
    "mastAvg = []\n",
    "docAvg = []\n",
    "\n",
    "for i in range(m):\n",
    "    bachAvg.append(np.mean(bachelorSalVal[np.random.randint(nBach, size=n)]))\n",
    "    mastAvg.append(np.mean(masterSalVal[np.random.randint(nMast, size=n)]))\n",
    "    docAvg.append(np.mean(docSalVal[np.random.randint(nDoc, size=n)]))\n",
    "\n",
    "x_min = min(np.min(bachAvg), np.min(mastAvg), np.min(docAvg))\n",
    "x_max = max(np.max(bachAvg), np.max(mastAvg), np.max(docAvg))\n",
    "\n",
    "x = bachAvg\n",
    "y = mastAvg\n",
    "z = docAvg\n",
    "\n",
    "bins = np.linspace(x_min, x_max, 100)\n",
    "\n",
    "plt.figure()\n",
    "plt.hist(x, bins, alpha=0.5, label=\"Bachelor's degree\")\n",
    "plt.hist(y, bins, alpha=0.5, label=\"Master's degree\")\n",
    "plt.hist(z, bins, alpha=0.5, label=\"Doctoral degree\")\n",
    "plt.legend(loc='upper right')\n",
    "plt.legend(loc='best')\n",
    "plt.title('Average annual salary in \\$USD')\n",
    "plt.xlabel('Average Annual Salary USD$')\n",
    "plt.ylabel('Number of Respondants')\n",
    "plt.show()\n",
    "\n",
    "# show distributions of salaries as a function of occupation title\n",
    "viz = pd.concat([salData['Q5'], viz], axis=1)\n",
    "viz = viz.drop(['Q4'], axis=1)\n",
    "\n",
    "jobData = viz.groupby(['Q5']).mean()\n",
    "\n",
    "plt.figure()\n",
    "chart = sns.barplot(x=jobData.index, y='Q10', data=jobData)\n",
    "chart.set_xticklabels(chart.get_xticklabels(), rotation=45, horizontalalignment='right')\n",
    "plt.title('Mean Annual Salary as a Function of Job Title')\n",
    "plt.xlabel('Job Title')\n",
    "plt.ylabel('Mean Annual Salary')\n",
    "plt.show()"
   ]
  },
  {
   "cell_type": "markdown",
   "metadata": {},
   "source": [
    "Lastly the features are encoded and a correlation plot is used to visualize feature importance. It should be noted that one-hot encoding was also tested (using the pd.get_dummies function) to encoded the feature data, however there was no measurable increase in model performance, for ease of visualization numeric encoding is presented below. "
   ]
  },
  {
   "cell_type": "code",
   "execution_count": 7,
   "metadata": {},
   "outputs": [
    {
     "data": {
      "text/html": [
       "<div>\n",
       "<style scoped>\n",
       "    .dataframe tbody tr th:only-of-type {\n",
       "        vertical-align: middle;\n",
       "    }\n",
       "\n",
       "    .dataframe tbody tr th {\n",
       "        vertical-align: top;\n",
       "    }\n",
       "\n",
       "    .dataframe thead th {\n",
       "        text-align: right;\n",
       "    }\n",
       "</style>\n",
       "<table border=\"1\" class=\"dataframe\">\n",
       "  <thead>\n",
       "    <tr style=\"text-align: right;\">\n",
       "      <th></th>\n",
       "      <th>Q1</th>\n",
       "      <th>Q2</th>\n",
       "      <th>Q3</th>\n",
       "      <th>Q4</th>\n",
       "      <th>Q5</th>\n",
       "      <th>Q6</th>\n",
       "      <th>Q7</th>\n",
       "      <th>Q8</th>\n",
       "      <th>Q11</th>\n",
       "      <th>Q14</th>\n",
       "      <th>Q15</th>\n",
       "      <th>Q10_Encoded</th>\n",
       "    </tr>\n",
       "  </thead>\n",
       "  <tbody>\n",
       "    <tr>\n",
       "      <td>0</td>\n",
       "      <td>1</td>\n",
       "      <td>1</td>\n",
       "      <td>15</td>\n",
       "      <td>3</td>\n",
       "      <td>8</td>\n",
       "      <td>1</td>\n",
       "      <td>0</td>\n",
       "      <td>0</td>\n",
       "      <td>0</td>\n",
       "      <td>1</td>\n",
       "      <td>0</td>\n",
       "      <td>3</td>\n",
       "    </tr>\n",
       "    <tr>\n",
       "      <td>1</td>\n",
       "      <td>5</td>\n",
       "      <td>1</td>\n",
       "      <td>20</td>\n",
       "      <td>5</td>\n",
       "      <td>8</td>\n",
       "      <td>4</td>\n",
       "      <td>4</td>\n",
       "      <td>3</td>\n",
       "      <td>5</td>\n",
       "      <td>3</td>\n",
       "      <td>6</td>\n",
       "      <td>0</td>\n",
       "    </tr>\n",
       "    <tr>\n",
       "      <td>2</td>\n",
       "      <td>5</td>\n",
       "      <td>1</td>\n",
       "      <td>2</td>\n",
       "      <td>3</td>\n",
       "      <td>5</td>\n",
       "      <td>4</td>\n",
       "      <td>4</td>\n",
       "      <td>0</td>\n",
       "      <td>2</td>\n",
       "      <td>4</td>\n",
       "      <td>0</td>\n",
       "      <td>14</td>\n",
       "    </tr>\n",
       "    <tr>\n",
       "      <td>3</td>\n",
       "      <td>1</td>\n",
       "      <td>1</td>\n",
       "      <td>20</td>\n",
       "      <td>0</td>\n",
       "      <td>5</td>\n",
       "      <td>0</td>\n",
       "      <td>0</td>\n",
       "      <td>1</td>\n",
       "      <td>0</td>\n",
       "      <td>4</td>\n",
       "      <td>5</td>\n",
       "      <td>0</td>\n",
       "    </tr>\n",
       "    <tr>\n",
       "      <td>4</td>\n",
       "      <td>7</td>\n",
       "      <td>1</td>\n",
       "      <td>15</td>\n",
       "      <td>3</td>\n",
       "      <td>4</td>\n",
       "      <td>0</td>\n",
       "      <td>5</td>\n",
       "      <td>3</td>\n",
       "      <td>2</td>\n",
       "      <td>0</td>\n",
       "      <td>2</td>\n",
       "      <td>6</td>\n",
       "    </tr>\n",
       "  </tbody>\n",
       "</table>\n",
       "</div>"
      ],
      "text/plain": [
       "   Q1  Q2  Q3  Q4  Q5  Q6  Q7  Q8  Q11  Q14  Q15  Q10_Encoded\n",
       "0   1   1  15   3   8   1   0   0    0    1    0            3\n",
       "1   5   1  20   5   8   4   4   3    5    3    6            0\n",
       "2   5   1   2   3   5   4   4   0    2    4    0           14\n",
       "3   1   1  20   0   5   0   0   1    0    4    5            0\n",
       "4   7   1  15   3   4   0   5   3    2    0    2            6"
      ]
     },
     "execution_count": 7,
     "metadata": {},
     "output_type": "execute_result"
    }
   ],
   "source": [
    "# encode the features as categorical data\n",
    "viz2 = salData.copy()\n",
    "viz2.drop(['Q10', 'Q10_buckets'], axis=1, inplace=True)\n",
    "viz2 = viz2.astype('category')\n",
    "vizHeader = list(viz2.columns)\n",
    "for header in vizHeader:\n",
    "    viz2[header] = viz2[header].cat.codes\n",
    "    \n",
    "viz2.head()\n",
    "\n",
    "# encodedFeatures = pd.get_dummies(salData.drop('Q10_Encoded', axis=1))\n",
    "# encodedFeatures.head()"
   ]
  },
  {
   "cell_type": "code",
   "execution_count": 8,
   "metadata": {},
   "outputs": [
    {
     "data": {
      "text/plain": [
       "Text(0.5, 1, 'Correlation Plot Between Features and Salary Bucket')"
      ]
     },
     "execution_count": 8,
     "metadata": {},
     "output_type": "execute_result"
    },
    {
     "data": {
      "image/png": "[encoded data removed]",
      "text/plain": [
       "<Figure size 864x864 with 2 Axes>"
      ]
     },
     "metadata": {
      "needs_background": "light"
     },
     "output_type": "display_data"
    }
   ],
   "source": [
    "# create a heatmap that shows correlation between remaining variables and salary bucket\n",
    "plt.figure(figsize=(12, 12))\n",
    "chart = sns.heatmap(viz2.corr(), cmap='coolwarm', annot=True, square=False)\n",
    "chart.set_xticklabels(chart.get_xticklabels(), rotation=90, horizontalalignment='right')\n",
    "chart.set_yticklabels(chart.get_yticklabels(), rotation=0, horizontalalignment='right')\n",
    "\n",
    "plt.title('Correlation Plot Between Features and Salary Bucket')"
   ]
  },
  {
   "cell_type": "markdown",
   "metadata": {},
   "source": [
    "It can be seen that the features which show the highest correlation to the target variable (Q10_Encoded i.e. salary bin) are questions 1 and 3 (0.37 and 0.36 correlation factor) while the lowest correlated features are questions 4 and 5 with correlations factors closest to 0. These questions are dropped."
   ]
  },
  {
   "cell_type": "code",
   "execution_count": 9,
   "metadata": {},
   "outputs": [],
   "source": [
    "viz2.drop(['Q4', 'Q5'], axis=1, inplace=True)"
   ]
  },
  {
   "cell_type": "markdown",
   "metadata": {},
   "source": [
    "Now with the partially cleaned and fully encoded data we copy our data to a new variable on which the regression algorithms can be performed. "
   ]
  },
  {
   "cell_type": "code",
   "execution_count": 10,
   "metadata": {},
   "outputs": [],
   "source": [
    "# now copy our partially cleaned and fully encoded data to a new variable which we can perform regression on\n",
    "regData = viz2.copy()"
   ]
  },
  {
   "cell_type": "markdown",
   "metadata": {},
   "source": [
    "The final step in data cleaning is to use lasso regularized regression to identify any remaining variables which do not have an impact on the target variable. Lasso stands for Least Absolute Shrinkage and Selection Operator. The lasso regression uses shrinkage to transform the data to a central value like the mean, and then perform an L1 regularization which adds a penalty equal to the absolute value of the magnitude of coefficients. Some of the coefficients of the features from the regression can be close to 0, those coefficients have a smaller impact on the target variable than features with larger coefficients. Features with coefficients of 0 were removed. In order help print the results of the lasso regression a helper function is defined."
   ]
  },
  {
   "cell_type": "code",
   "execution_count": 11,
   "metadata": {},
   "outputs": [
    {
     "name": "stdout",
     "output_type": "stream",
     "text": [
      "lasso regression results: \n",
      "1.057 * Q1 + 1.029 * Q3 + 0.395 * Q11 + 0.286 * Q8 + 0.184 * Q6 + 0.1 * Q7 + 0.0 * Q2 + 0.0 * Q14 + -0.0 * Q15\n"
     ]
    }
   ],
   "source": [
    "# ------------------------------------------ helper function ---------------------------------------------- #\n",
    "def ez_print(coefs, names=None, sort=False):\n",
    "    if names is None:\n",
    "        names = [\"X%s\" % x for x in range(len(coefs))]\n",
    "    lst = zip(coefs, names)\n",
    "    if sort:\n",
    "        lst = sorted(lst, key=lambda x: -np.abs(x[0]))\n",
    "    return \" + \".join(\"%s * %s\" % (round(coef, 3), name)\n",
    "                      for coef, name in lst)\n",
    "# -------------------------------------------------------------------------------------------------------- #\n",
    "\n",
    "\n",
    "# Use Lasso method to further identify variables which do not have importance, variables with coefficients of\n",
    "# zero are shown to not have an effect on the target variables and are removed #\n",
    "scaler = StandardScaler()\n",
    "scaler.fit(regData.drop('Q10_Encoded', axis=1))\n",
    "scaledData = scaler.transform(regData.drop('Q10_Encoded', axis=1))\n",
    "\n",
    "lasso = Lasso(alpha=0.3)\n",
    "lasso.fit(scaledData, regData['Q10_Encoded'])\n",
    "names = regData.drop('Q10_Encoded', axis=1).columns\n",
    "\n",
    "print('lasso regression results: ')\n",
    "print(ez_print(lasso.coef_, names.to_list(), sort=True))\n",
    "\n",
    "# it can be seen that the coefficients of Q2, Q4, Q14, and Q15 are 0 from the lasso regression and can\n",
    "# therefore be dropped\n",
    "regData.drop(['Q2', 'Q14', 'Q15'], axis=1, inplace=True)"
   ]
  },
  {
   "cell_type": "markdown",
   "metadata": {},
   "source": [
    "It can be seen from the Lasso Regression that questions 2, 14, and 15 had coefficients of 0 and were therfore removed from the data set. Now we can see our final data set which has been fully cleaned of null values, encoded to numerical values, and had the most important features selected for. The results of the feature selection process indicate that the feature with the highest impact on salary category is age (Q1), followed by country of residence (Q3), use of machine learning at workplace (Q8), and number of employees at current employer (Q6). Surprsingly, education level and gender were deemed unimportant features in the feature selection phase, through both the Lasso regression and the correlation plot. \n",
    "\n",
    "The fact that gender and education level were eliminated goes against intuition and the preliminary data analysis until one further considers the data set itself. The collected data was for proffesionals in the data science field, which already requires a high degree of education, so it comports then that further increasing one's education may not be the largest contributing factor to the salary class. With respect to gender, the initial data analysis illustrates the low respondance of women in the field which shows a lack of pairity in employment (not based on bias or discrimination rather just the fact that fewer women are employed in the field). On further contemplation it shows that the spread of salary between both men and women does not have high variance; i.e. the most number of respondants have salaries in the 0th bin. When comparing higher bins there is little difference between them which indicatest that gender will not be able to differentiate between these bins well. "
   ]
  },
  {
   "cell_type": "code",
   "execution_count": 12,
   "metadata": {},
   "outputs": [
    {
     "data": {
      "text/html": [
       "<div>\n",
       "<style scoped>\n",
       "    .dataframe tbody tr th:only-of-type {\n",
       "        vertical-align: middle;\n",
       "    }\n",
       "\n",
       "    .dataframe tbody tr th {\n",
       "        vertical-align: top;\n",
       "    }\n",
       "\n",
       "    .dataframe thead th {\n",
       "        text-align: right;\n",
       "    }\n",
       "</style>\n",
       "<table border=\"1\" class=\"dataframe\">\n",
       "  <thead>\n",
       "    <tr style=\"text-align: right;\">\n",
       "      <th></th>\n",
       "      <th>Q1</th>\n",
       "      <th>Q3</th>\n",
       "      <th>Q6</th>\n",
       "      <th>Q7</th>\n",
       "      <th>Q8</th>\n",
       "      <th>Q11</th>\n",
       "      <th>Q10_Encoded</th>\n",
       "    </tr>\n",
       "  </thead>\n",
       "  <tbody>\n",
       "    <tr>\n",
       "      <td>0</td>\n",
       "      <td>1</td>\n",
       "      <td>15</td>\n",
       "      <td>1</td>\n",
       "      <td>0</td>\n",
       "      <td>0</td>\n",
       "      <td>0</td>\n",
       "      <td>3</td>\n",
       "    </tr>\n",
       "    <tr>\n",
       "      <td>1</td>\n",
       "      <td>5</td>\n",
       "      <td>20</td>\n",
       "      <td>4</td>\n",
       "      <td>4</td>\n",
       "      <td>3</td>\n",
       "      <td>5</td>\n",
       "      <td>0</td>\n",
       "    </tr>\n",
       "    <tr>\n",
       "      <td>2</td>\n",
       "      <td>5</td>\n",
       "      <td>2</td>\n",
       "      <td>4</td>\n",
       "      <td>4</td>\n",
       "      <td>0</td>\n",
       "      <td>2</td>\n",
       "      <td>14</td>\n",
       "    </tr>\n",
       "    <tr>\n",
       "      <td>3</td>\n",
       "      <td>1</td>\n",
       "      <td>20</td>\n",
       "      <td>0</td>\n",
       "      <td>0</td>\n",
       "      <td>1</td>\n",
       "      <td>0</td>\n",
       "      <td>0</td>\n",
       "    </tr>\n",
       "    <tr>\n",
       "      <td>4</td>\n",
       "      <td>7</td>\n",
       "      <td>15</td>\n",
       "      <td>0</td>\n",
       "      <td>5</td>\n",
       "      <td>3</td>\n",
       "      <td>2</td>\n",
       "      <td>6</td>\n",
       "    </tr>\n",
       "  </tbody>\n",
       "</table>\n",
       "</div>"
      ],
      "text/plain": [
       "   Q1  Q3  Q6  Q7  Q8  Q11  Q10_Encoded\n",
       "0   1  15   1   0   0    0            3\n",
       "1   5  20   4   4   3    5            0\n",
       "2   5   2   4   4   0    2           14\n",
       "3   1  20   0   0   1    0            0\n",
       "4   7  15   0   5   3    2            6"
      ]
     },
     "execution_count": 12,
     "metadata": {},
     "output_type": "execute_result"
    }
   ],
   "source": [
    "regData.head()"
   ]
  },
  {
   "cell_type": "markdown",
   "metadata": {},
   "source": [
    "### Regression Model Implementation "
   ]
  },
  {
   "cell_type": "markdown",
   "metadata": {},
   "source": [
    "The fully processed and cleaned data can now be fitted to a logistic regresison model. Because the target variable is ordered (bin0 < bin1, bin1 < bin2 etc.) it is important to use ordinal logistic regression. Ordinal logistic regression accounts for the ordinality of the data by calculating the probability of an index belonging to the target salary class or all lower classes, then subtracting the probability that the data is in the lower classes. An example would be for a given index if the probability of being in salary bin 3 was 0.42, and the previously calculated probabilities of being in bins0-2 were cumulatively 0.31, then the actual probability of being in salary bin 3 is 0.42-0.31 = 0.11. Unfortunately, due to poor accuracy of the logistic regression model in general, an error was encountered that resulted in the higher salary classes having lower probabilities than previous salary classes (i.e. Probability of bin4 < bin3; which should not be then case). This meant then that when the probability of being in a lower salary class was subtracted a negative probability was found. Obviously negative probabilities are not mathematically possible, and furthermore, this error compounded as successive subtractions were conducted (i.e. subtrating a negative number results in a larger positive number). The ultimate result of this error was that the overall probability of greater being in any of the salary bins was greater than 1, an obvious mathematical inaccuracy. The code for the preliminary ordinal logistic regression is presented below however, due to this error the remainder of the project was conducted using multivariate logistic regression.   "
   ]
  },
  {
   "cell_type": "code",
   "execution_count": 13,
   "metadata": {},
   "outputs": [],
   "source": [
    "salData.drop(['Q2', 'Q4', 'Q5', 'Q14', 'Q15', 'Q10', 'Q10_buckets'], axis=1, inplace=True)\n",
    "salData2 = salData.astype('category')\n",
    "encodedFeatures2 = pd.get_dummies(salData.drop('Q10_Encoded', axis=1))\n",
    "bin2 = salData['Q10_Encoded']\n",
    "target2 = pd.DataFrame(np.zeros((len(salData.index), 1)), index=salData.index)\n",
    "target2.rename(columns={0:'targetTrue'}, inplace=True)\n",
    "regData2 = pd.concat([encodedFeatures2, bin2, target2], axis=1)\n",
    "allPredicts2 = {}\n",
    "probs2 = {}\n",
    "trueTarg2= [] # this is a new variable that will be used to determine whether or not the probabilities being calculated are for \n",
    "# the target bin or lower bins, as the algorithm is run the 'trueTarg' value is updated from it's initialized value of 0 to a \n",
    "# value of 1 whenever the value of the salary bin matches the value of the iteration, this provides a method of keeping track\n",
    "# of the bin number and calculating whether an index belongs to the target salary class or lower classes OR the higher classes.\n",
    "# That is to say that if the value of trueTarg is 1 during iteration 4, the index belongs to bin 4 or 3 or 2 or 1, if the value\n",
    "# is 0 then the index belongs to one of the higher classes. \n",
    "\n",
    "for i in range(max(bin2)):\n",
    "\n",
    "    regData2['targetTrue'].loc[regData2['Q10_Encoded'] == i] = 1\n",
    "\n",
    "    x_train, x_test, y_train, y_test = train_test_split(regData2.drop(['Q10_Encoded', 'targetTrue'], axis=1),\n",
    "                                                        regData2['targetTrue'], test_size=0.2, random_state=101)\n",
    "\n",
    "    logMod = LogisticRegression(solver='newton-cg', warm_start=True)\n",
    "    logMod.fit(x_train, y_train)\n",
    "\n",
    "    probPred2 = logMod.predict_proba(x_test)\n",
    "\n",
    "    allPredicts2[i] = pd.DataFrame(probPred2, index=x_test.index)\n",
    "\n",
    "prob0 = allPredicts2[0][1]\n",
    "prob1 = allPredicts2[1][1]-prob0\n",
    "prob2 = allPredicts2[2][1]-prob1\n",
    "prob3 = allPredicts2[3][1]-prob2\n",
    "salClassProbs = pd.concat([prob0, prob1, prob2, prob3], axis=1)\n",
    "\n",
    "salClassProbs.columns = list(['prob0', 'prob1', 'prob2', 'prob3'])"
   ]
  },
  {
   "cell_type": "markdown",
   "metadata": {},
   "source": [
    "Now the previously mentioned error can be checked by checking the header of the salClassProbs dataframe. This dataframe stores the probability that a given index belongs to that salary class as calculated by the logistic regression model. The negative compounding error can be seen in index 1818. For this reason <b> multivariate logistic regression </b> was used."
   ]
  },
  {
   "cell_type": "code",
   "execution_count": 14,
   "metadata": {},
   "outputs": [
    {
     "data": {
      "text/html": [
       "<div>\n",
       "<style scoped>\n",
       "    .dataframe tbody tr th:only-of-type {\n",
       "        vertical-align: middle;\n",
       "    }\n",
       "\n",
       "    .dataframe tbody tr th {\n",
       "        vertical-align: top;\n",
       "    }\n",
       "\n",
       "    .dataframe thead th {\n",
       "        text-align: right;\n",
       "    }\n",
       "</style>\n",
       "<table border=\"1\" class=\"dataframe\">\n",
       "  <thead>\n",
       "    <tr style=\"text-align: right;\">\n",
       "      <th></th>\n",
       "      <th>prob0</th>\n",
       "      <th>prob1</th>\n",
       "      <th>prob2</th>\n",
       "      <th>prob3</th>\n",
       "    </tr>\n",
       "  </thead>\n",
       "  <tbody>\n",
       "    <tr>\n",
       "      <td>3739</td>\n",
       "      <td>0.024649</td>\n",
       "      <td>0.043362</td>\n",
       "      <td>0.123615</td>\n",
       "      <td>0.205121</td>\n",
       "    </tr>\n",
       "    <tr>\n",
       "      <td>3424</td>\n",
       "      <td>0.427462</td>\n",
       "      <td>0.155723</td>\n",
       "      <td>0.595079</td>\n",
       "      <td>0.190047</td>\n",
       "    </tr>\n",
       "    <tr>\n",
       "      <td>7798</td>\n",
       "      <td>0.918278</td>\n",
       "      <td>0.048943</td>\n",
       "      <td>0.931553</td>\n",
       "      <td>0.054062</td>\n",
       "    </tr>\n",
       "    <tr>\n",
       "      <td>1818</td>\n",
       "      <td>0.041967</td>\n",
       "      <td>-0.011227</td>\n",
       "      <td>0.047260</td>\n",
       "      <td>-0.006366</td>\n",
       "    </tr>\n",
       "    <tr>\n",
       "      <td>4091</td>\n",
       "      <td>0.361033</td>\n",
       "      <td>0.075138</td>\n",
       "      <td>0.466513</td>\n",
       "      <td>0.174177</td>\n",
       "    </tr>\n",
       "  </tbody>\n",
       "</table>\n",
       "</div>"
      ],
      "text/plain": [
       "         prob0     prob1     prob2     prob3\n",
       "3739  0.024649  0.043362  0.123615  0.205121\n",
       "3424  0.427462  0.155723  0.595079  0.190047\n",
       "7798  0.918278  0.048943  0.931553  0.054062\n",
       "1818  0.041967 -0.011227  0.047260 -0.006366\n",
       "4091  0.361033  0.075138  0.466513  0.174177"
      ]
     },
     "execution_count": 14,
     "metadata": {},
     "output_type": "execute_result"
    }
   ],
   "source": [
    "salClassProbs.head()"
   ]
  },
  {
   "cell_type": "markdown",
   "metadata": {},
   "source": [
    "## Multivariate Logistic Regression"
   ]
  },
  {
   "cell_type": "markdown",
   "metadata": {},
   "source": [
    "Now that the method of logistic regression has been selected the cleaned data should be double checked and logistic regression for the purpose of salary classification can begin. "
   ]
  },
  {
   "cell_type": "code",
   "execution_count": 15,
   "metadata": {},
   "outputs": [
    {
     "data": {
      "text/html": [
       "<div>\n",
       "<style scoped>\n",
       "    .dataframe tbody tr th:only-of-type {\n",
       "        vertical-align: middle;\n",
       "    }\n",
       "\n",
       "    .dataframe tbody tr th {\n",
       "        vertical-align: top;\n",
       "    }\n",
       "\n",
       "    .dataframe thead th {\n",
       "        text-align: right;\n",
       "    }\n",
       "</style>\n",
       "<table border=\"1\" class=\"dataframe\">\n",
       "  <thead>\n",
       "    <tr style=\"text-align: right;\">\n",
       "      <th></th>\n",
       "      <th>Q1</th>\n",
       "      <th>Q3</th>\n",
       "      <th>Q6</th>\n",
       "      <th>Q7</th>\n",
       "      <th>Q8</th>\n",
       "      <th>Q11</th>\n",
       "      <th>Q10_Encoded</th>\n",
       "    </tr>\n",
       "  </thead>\n",
       "  <tbody>\n",
       "    <tr>\n",
       "      <td>0</td>\n",
       "      <td>1</td>\n",
       "      <td>15</td>\n",
       "      <td>1</td>\n",
       "      <td>0</td>\n",
       "      <td>0</td>\n",
       "      <td>0</td>\n",
       "      <td>3</td>\n",
       "    </tr>\n",
       "    <tr>\n",
       "      <td>1</td>\n",
       "      <td>5</td>\n",
       "      <td>20</td>\n",
       "      <td>4</td>\n",
       "      <td>4</td>\n",
       "      <td>3</td>\n",
       "      <td>5</td>\n",
       "      <td>0</td>\n",
       "    </tr>\n",
       "    <tr>\n",
       "      <td>2</td>\n",
       "      <td>5</td>\n",
       "      <td>2</td>\n",
       "      <td>4</td>\n",
       "      <td>4</td>\n",
       "      <td>0</td>\n",
       "      <td>2</td>\n",
       "      <td>14</td>\n",
       "    </tr>\n",
       "    <tr>\n",
       "      <td>3</td>\n",
       "      <td>1</td>\n",
       "      <td>20</td>\n",
       "      <td>0</td>\n",
       "      <td>0</td>\n",
       "      <td>1</td>\n",
       "      <td>0</td>\n",
       "      <td>0</td>\n",
       "    </tr>\n",
       "    <tr>\n",
       "      <td>4</td>\n",
       "      <td>7</td>\n",
       "      <td>15</td>\n",
       "      <td>0</td>\n",
       "      <td>5</td>\n",
       "      <td>3</td>\n",
       "      <td>2</td>\n",
       "      <td>6</td>\n",
       "    </tr>\n",
       "  </tbody>\n",
       "</table>\n",
       "</div>"
      ],
      "text/plain": [
       "   Q1  Q3  Q6  Q7  Q8  Q11  Q10_Encoded\n",
       "0   1  15   1   0   0    0            3\n",
       "1   5  20   4   4   3    5            0\n",
       "2   5   2   4   4   0    2           14\n",
       "3   1  20   0   0   1    0            0\n",
       "4   7  15   0   5   3    2            6"
      ]
     },
     "execution_count": 15,
     "metadata": {},
     "output_type": "execute_result"
    }
   ],
   "source": [
    "regData.head()"
   ]
  },
  {
   "cell_type": "markdown",
   "metadata": {},
   "source": [
    "The entire data set is first split into a training and testing set. The test set will be used as a true final test at the end of the script, it contains data that the algorithm will never be exposed to until the very end. The training set here will be used for all training and validation other than the final test step."
   ]
  },
  {
   "cell_type": "code",
   "execution_count": 16,
   "metadata": {},
   "outputs": [],
   "source": [
    "regData_xtrain, regData_xtest, regData_ytrain, regData_ytest = train_test_split(regData.drop('Q10_Encoded', axis=1),\n",
    "                                                                                regData['Q10_Encoded'], test_size=0.3)\n",
    "x_train, x_test, y_train, y_test = train_test_split(regData_xtrain, regData_ytrain, test_size=0.3)\n",
    "\n",
    "scaler = StandardScaler()\n",
    "\n",
    "x_train = scaler.fit_transform(x_train)\n",
    "x_test = scaler.transform(x_test)"
   ]
  },
  {
   "cell_type": "markdown",
   "metadata": {},
   "source": [
    "The newly split and scaled data is now fitted to a logistc regression model to perform multivariate analysis. The accuracy of the model is calculated and presented below."
   ]
  },
  {
   "cell_type": "code",
   "execution_count": 17,
   "metadata": {},
   "outputs": [
    {
     "name": "stdout",
     "output_type": "stream",
     "text": [
      "This model got an accuracy of 32.56 % on the test set\n"
     ]
    }
   ],
   "source": [
    "logMod = LogisticRegression(solver='lbfgs', max_iter=200, multi_class='auto')\n",
    "logMod.fit(x_train, y_train)\n",
    "\n",
    "predictions = logMod.predict(x_test)\n",
    "resultsDF = pd.DataFrame({'true': y_test, 'predicted': predictions})\n",
    "acc = accuracy_score(predictions, y_test)\n",
    "\n",
    "print('This model got an accuracy of {} % on the test set'.format(round(acc*100, 2)))"
   ]
  },
  {
   "cell_type": "markdown",
   "metadata": {},
   "source": [
    "Now that an intial run has been conducted we can attempt to increase the accuracy of the model by conducting a 10 fold cross validation study. To monitor the algorithm's performance over each fold the accuracies will be presented and the average mean and standard deviation will show the true 10 fold corss validated model performance. Additionally the model performance will be shown by plotting its 'learning curve' over the folds, this will be achieved through the use of a helper function. "
   ]
  },
  {
   "cell_type": "code",
   "execution_count": 18,
   "metadata": {},
   "outputs": [
    {
     "name": "stdout",
     "output_type": "stream",
     "text": [
      "Fold 1: Accuracy: 27.297%\n",
      "Fold 2: Accuracy: 29.134%\n",
      "Fold 3: Accuracy: 31.874%\n",
      "Fold 4: Accuracy: 28.634%\n",
      "Fold 5: Accuracy: 30.123%\n",
      "Fold 6: Accuracy: 29.247%\n",
      "Fold 7: Accuracy: 36.34%\n",
      "Fold 8: Accuracy: 32.137%\n",
      "Fold 9: Accuracy: 36.427%\n",
      "Fold 10: Accuracy: 38.354%\n",
      "Average Score: 31.957%(3.628%)\n"
     ]
    },
    {
     "data": {
      "image/png": "[encoded data removed]",
      "text/plain": [
       "<Figure size 720x432 with 1 Axes>"
      ]
     },
     "metadata": {
      "needs_background": "light"
     },
     "output_type": "display_data"
    },
    {
     "data": {
      "text/plain": [
       "<module 'matplotlib.pyplot' from 'C:\\\\Users\\\\Taylr Cawte\\\\Anaconda3\\\\lib\\\\site-packages\\\\matplotlib\\\\pyplot.py'>"
      ]
     },
     "execution_count": 18,
     "metadata": {},
     "output_type": "execute_result"
    }
   ],
   "source": [
    "# -------------------------------------- helper function ------------------------------------------------#\n",
    "def plot_learning_curve(estimator, title, X, y, ylim=None, cv=None, n_jobs=1, train_sizes=np.linspace(.1, 1.0, 5),\n",
    "                        scoring='accuracy'):\n",
    "    plt.figure(figsize=(10, 6))\n",
    "    plt.title(title)\n",
    "\n",
    "    if ylim is not None:\n",
    "        plt.ylim(*ylim)\n",
    "\n",
    "    plt.xlabel(\"Training examples\")\n",
    "    plt.ylabel(scoring)\n",
    "\n",
    "    train_sizes, train_scores, test_scores = learning_curve(estimator, X, y, cv=cv, scoring=scoring, n_jobs=n_jobs,\n",
    "                                                            train_sizes=train_sizes)\n",
    "    train_scores_mean = np.mean(train_scores, axis=1)\n",
    "    train_scores_std = np.std(train_scores, axis=1)\n",
    "    test_scores_mean = np.mean(test_scores, axis=1)\n",
    "    test_scores_std = np.std(test_scores, axis=1)\n",
    "\n",
    "    plt.grid()\n",
    "\n",
    "    plt.fill_between(train_sizes, train_scores_mean - train_scores_std, \\\n",
    "                     train_scores_mean + train_scores_std, alpha=0.1, \\\n",
    "                     color=\"r\")\n",
    "    plt.fill_between(train_sizes, test_scores_mean - test_scores_std, \\\n",
    "                     test_scores_mean + test_scores_std, alpha=0.1, color=\"g\")\n",
    "\n",
    "    plt.plot(train_sizes, train_scores_mean, 'o-', color=\"r\", label=\"Training score\")\n",
    "    plt.plot(train_sizes, test_scores_mean, 'o-', color=\"g\", label=\"Cross-validation score\")\n",
    "    plt.legend(loc=\"best\")\n",
    "    plt.show()\n",
    "\n",
    "    return plt\n",
    "# ----------------------------------------------------------------------------------------------------#\n",
    "# now that we have done an initial run we will use cross validation to show the true performance of the model on the\n",
    "# training set #\n",
    "X = regData.drop('Q10_Encoded', axis=1)\n",
    "y = regData['Q10_Encoded']\n",
    "logMod = LogisticRegression(solver='lbfgs', max_iter=200, multi_class='auto')\n",
    "scaler = StandardScaler()\n",
    "kfold = KFold(n_splits=10)\n",
    "kfold.get_n_splits(X)\n",
    "\n",
    "acc2 = np.zeros(10)\n",
    "np_idx = 0\n",
    "\n",
    "for train_idx, test_idx in kfold.split(X):\n",
    "    X_train, X_test = X.values[train_idx], X.values[test_idx]\n",
    "    y_train, y_test = y.values[train_idx], y.values[test_idx]\n",
    "\n",
    "    X_train = scaler.fit_transform(X_train)\n",
    "    X_test = scaler.transform(X_test)\n",
    "\n",
    "    logMod.fit(X_train, y_train)\n",
    "\n",
    "    predictions = logMod.predict(X_test)\n",
    "\n",
    "    acc = accuracy_score(predictions, y_test)\n",
    "\n",
    "    acc2[np_idx] = acc*100\n",
    "    np_idx += 1\n",
    "\n",
    "    print(\"Fold {}: Accuracy: {}%\".format(np_idx, round(acc*100,3)))\n",
    "\n",
    "print(\"Average Score: {}%({}%)\".format(round(np.mean(acc2), 3), round(np.std(acc2), 3)))\n",
    "\n",
    "plot_learning_curve(logMod, 'Multinomial Logistic Regression', X, y, cv=10)\n"
   ]
  },
  {
   "cell_type": "markdown",
   "metadata": {},
   "source": [
    "### Model Tuning "
   ]
  },
  {
   "cell_type": "markdown",
   "metadata": {},
   "source": [
    "Now that the model has been implemented and improved using k-fold cross validation, the model can be further refined using a grid search."
   ]
  },
  {
   "cell_type": "code",
   "execution_count": 19,
   "metadata": {},
   "outputs": [
    {
     "name": "stdout",
     "output_type": "stream",
     "text": [
      "Grid search completed\n",
      "{'C': 0.5, 'solver': 'newton-cg'}\n",
      "best score: 32.0% (3.68%)\n",
      "the optimal multinomial log model uses c=0.5, and a newton-cg solver, and has a cross validation score of 32.0% with a standard deviation of 3.68 %\n"
     ]
    }
   ],
   "source": [
    "# lets spice things up with a little grid search\n",
    "logMod = LogisticRegression(max_iter=200, multi_class='auto')\n",
    "scaler = StandardScaler()\n",
    "kfold = KFold(n_splits=10)\n",
    "kfold.get_n_splits(X)\n",
    "accLog = np.zeros(10)\n",
    "trainAccLog = np.zeros(10)\n",
    "testErrorLog =np.zeros(10)\n",
    "trainErrorLog =np.zeros(10)\n",
    "\n",
    "bestModel = logMod\n",
    "bestParams = {}\n",
    "bestAcc = 0\n",
    "bestStd = 0\n",
    "hyperParams = [0.001, 0.01, 0.05, 0.1, 0.5, 1, 5, 10, 100]\n",
    "solvers = ['lbfgs', 'newton-cg', 'sag']\n",
    "\n",
    "biasVar = {}\n",
    "\n",
    "# for solver in solvers:\n",
    "#     for C in hyperParams:\n",
    "#         biasVar[solver] = {}\n",
    "#         biasVar[solver][C] = {}\n",
    "\n",
    "for i, solver in enumerate(solvers):\n",
    "    for j, C in enumerate(hyperParams):\n",
    "\n",
    "        logMod = LogisticRegression(C=C, solver=solver, multi_class='auto', max_iter=200)\n",
    "        acc = np.zeros(10)\n",
    "        np_idx = 0\n",
    "\n",
    "        for train_idx, test_idx in kfold.split(X):\n",
    "\n",
    "            x_train, x_test = X.values[train_idx], X.values[test_idx]\n",
    "            y_train, y_test = y.values[train_idx], y.values[test_idx]\n",
    "\n",
    "            x_train = scaler.fit_transform(x_train)\n",
    "            x_test = scaler.transform(x_test)\n",
    "\n",
    "            logMod.fit(x_train, y_train)\n",
    "\n",
    "            predictions = logMod.predict(x_test)\n",
    "            trainPred = logMod.predict(x_train)\n",
    "\n",
    "            acc = accuracy_score(y_test, predictions)\n",
    "            trainAcc = accuracy_score(y_train, trainPred)\n",
    "            testError = mean_squared_error(y_test, predictions)\n",
    "            trainError = mean_squared_error(y_train, trainPred)\n",
    "\n",
    "            accLog[np_idx] = acc*100\n",
    "            trainAccLog[np_idx] = trainAcc\n",
    "            testErrorLog[np_idx] = testError\n",
    "            trainErrorLog[np_idx] = trainError\n",
    "\n",
    "            np_idx += 1\n",
    "\n",
    "            # biasVar[solver][C] = {'acclog': accLog, 'trainAccLog': trainAccLog, 'testErrorLog': testErrorLog,\n",
    "            #                       'trainErrorLog': trainErrorLog}\n",
    "\n",
    "            if np.mean(accLog) > bestAcc:\n",
    "                bestParams = {'C': C, 'solver':solver}\n",
    "                bestAcc = np.mean(accLog)\n",
    "                bestStd = np.std(accLog)\n",
    "                # biasVar = {'acclog': accLog, 'trainAccLog': trainAccLog, 'testErrorLog': testErrorLog,\n",
    "                #            'trainErrorLog': trainErrorLog}\n",
    "print('Grid search completed')\n",
    "print(bestParams)\n",
    "print('best score: {}% ({}%)'.format(round(bestAcc, 3), round(bestStd, 3)))\n",
    "print('the optimal multinomial log model uses c={}, and a {} solver, and has a cross validation score of {}% with a '\n",
    "      'standard deviation of {} %'.format(bestParams['C'], bestParams['solver'], round(bestAcc, 3), round(bestStd, 3)))"
   ]
  },
  {
   "cell_type": "markdown",
   "metadata": {},
   "source": [
    "### Discussion and Testing "
   ]
  },
  {
   "cell_type": "markdown",
   "metadata": {},
   "source": [
    "It can be seen that the best model was determined to be the newton-cg solver with a hyperparameter of 0.05, this will be used to conduct a final test to determine the accuracy of the model on unseen data. "
   ]
  },
  {
   "cell_type": "code",
   "execution_count": 20,
   "metadata": {},
   "outputs": [
    {
     "name": "stdout",
     "output_type": "stream",
     "text": [
      "the accuracy score for the unseen data (i.e. test data) is 31.84% using the best solver with the tuned hyperparameter\n"
     ]
    }
   ],
   "source": [
    "# now that we have our best parameters we can implement the solver on the unlabelled data\n",
    "logMod = LogisticRegression(C=bestParams['C'], solver=bestParams['solver'], multi_class='auto')\n",
    "scaler = StandardScaler()\n",
    "\n",
    "x_train = regData_xtrain\n",
    "y_train = regData_ytrain\n",
    "\n",
    "x_test = regData_xtest\n",
    "\n",
    "logMod.fit(x_train, y_train)\n",
    "predictions = logMod.predict(x_test)\n",
    "acc = accuracy_score(predictions, regData_ytest)\n",
    "print('the accuracy score for the unseen data (i.e. test data) is {}% using the best solver with the tuned hyperparameter'.format(round(acc*100, 2)))"
   ]
  },
  {
   "cell_type": "code",
   "execution_count": 21,
   "metadata": {},
   "outputs": [
    {
     "data": {
      "image/png": "[encoded data removed]",
      "text/plain": [
       "<Figure size 432x288 with 1 Axes>"
      ]
     },
     "metadata": {
      "needs_background": "light"
     },
     "output_type": "display_data"
    },
    {
     "data": {
      "image/png": "[encoded data removed]",
      "text/plain": [
       "<Figure size 432x288 with 1 Axes>"
      ]
     },
     "metadata": {
      "needs_background": "light"
     },
     "output_type": "display_data"
    }
   ],
   "source": [
    "# the predictions are stored in a dataframe and the distribution of salary classes of the test data is presented \n",
    "predDf = pd.DataFrame(predictions)\n",
    "testDf = pd.DataFrame(regData_ytest)\n",
    "\n",
    "plt.figure()\n",
    "chart = sns.countplot(x=0, data=predDf)\n",
    "plt.title('Predicted Salary Distribution in Test Data Set')\n",
    "plt.xlabel('Salary Bin')\n",
    "plt.ylabel('Response Count')\n",
    "plt.show()\n",
    "\n",
    "plt.figure()\n",
    "chart = sns.countplot(x='Q10_Encoded', data=testDf)\n",
    "plt.title('Actual Salary Distribution in Test Data Set')\n",
    "plt.xlabel('Salary Bin')\n",
    "plt.ylabel('Response Count')\n",
    "plt.show()"
   ]
  },
  {
   "cell_type": "markdown",
   "metadata": {},
   "source": [
    "It can be seen that a majority of the bins with low variance (bin1-bin9, and bin11-bin13) are being classified as being in bins with higher variance i.e. bin1, bin10, and bin14. This indicates that the model is under fitting because it is not able to adequately differentiate between target variables of low variance. Considering that the highest accuracy attained by the logistic regression model after hyperperameter tuning, and a grid search with 10 fold cross validaiton was 32.21% (on the test data) it would suggest that the selected model is not apporpriate for the purpose of salary classification from the provided data set, and cannot be improved further as is. \n",
    "\n",
    "The poor classification ability of the logistic regression model is likely due to the fact that logistic regression itself is a binary classifier. With this knowledge it may be possible then to assume that the accuracy could be increased by binarizing the target variables and running an algorithm that treats each salary bin as it's on target variable. For example, consider a given index with given features and a target of salary bin = 4. The binarized target variables to be considered would be bin0-3 = 0, bin4 = 1, and bin5-14 = 0. The model could then be trained based on exactly which features lead to bin_n=1, and may produce a model that is better able to differentiate between bins with low variance. This technique considered a one vs rest logistic regression model and is investigated briefly below. "
   ]
  },
  {
   "cell_type": "code",
   "execution_count": 22,
   "metadata": {},
   "outputs": [
    {
     "data": {
      "text/html": [
       "<div>\n",
       "<style scoped>\n",
       "    .dataframe tbody tr th:only-of-type {\n",
       "        vertical-align: middle;\n",
       "    }\n",
       "\n",
       "    .dataframe tbody tr th {\n",
       "        vertical-align: top;\n",
       "    }\n",
       "\n",
       "    .dataframe thead th {\n",
       "        text-align: right;\n",
       "    }\n",
       "</style>\n",
       "<table border=\"1\" class=\"dataframe\">\n",
       "  <thead>\n",
       "    <tr style=\"text-align: right;\">\n",
       "      <th></th>\n",
       "      <th>Q1</th>\n",
       "      <th>Q3</th>\n",
       "      <th>Q6</th>\n",
       "      <th>Q7</th>\n",
       "      <th>Q8</th>\n",
       "      <th>Q11</th>\n",
       "      <th>Q10_Encoded</th>\n",
       "    </tr>\n",
       "  </thead>\n",
       "  <tbody>\n",
       "    <tr>\n",
       "      <td>0</td>\n",
       "      <td>1</td>\n",
       "      <td>15</td>\n",
       "      <td>1</td>\n",
       "      <td>0</td>\n",
       "      <td>0</td>\n",
       "      <td>0</td>\n",
       "      <td>3</td>\n",
       "    </tr>\n",
       "    <tr>\n",
       "      <td>1</td>\n",
       "      <td>5</td>\n",
       "      <td>20</td>\n",
       "      <td>4</td>\n",
       "      <td>4</td>\n",
       "      <td>3</td>\n",
       "      <td>5</td>\n",
       "      <td>0</td>\n",
       "    </tr>\n",
       "    <tr>\n",
       "      <td>2</td>\n",
       "      <td>5</td>\n",
       "      <td>2</td>\n",
       "      <td>4</td>\n",
       "      <td>4</td>\n",
       "      <td>0</td>\n",
       "      <td>2</td>\n",
       "      <td>14</td>\n",
       "    </tr>\n",
       "    <tr>\n",
       "      <td>3</td>\n",
       "      <td>1</td>\n",
       "      <td>20</td>\n",
       "      <td>0</td>\n",
       "      <td>0</td>\n",
       "      <td>1</td>\n",
       "      <td>0</td>\n",
       "      <td>0</td>\n",
       "    </tr>\n",
       "    <tr>\n",
       "      <td>4</td>\n",
       "      <td>7</td>\n",
       "      <td>15</td>\n",
       "      <td>0</td>\n",
       "      <td>5</td>\n",
       "      <td>3</td>\n",
       "      <td>2</td>\n",
       "      <td>6</td>\n",
       "    </tr>\n",
       "  </tbody>\n",
       "</table>\n",
       "</div>"
      ],
      "text/plain": [
       "   Q1  Q3  Q6  Q7  Q8  Q11  Q10_Encoded\n",
       "0   1  15   1   0   0    0            3\n",
       "1   5  20   4   4   3    5            0\n",
       "2   5   2   4   4   0    2           14\n",
       "3   1  20   0   0   1    0            0\n",
       "4   7  15   0   5   3    2            6"
      ]
     },
     "execution_count": 22,
     "metadata": {},
     "output_type": "execute_result"
    }
   ],
   "source": [
    "x = viz2.drop(['Q2', 'Q14', 'Q15'], axis=1)\n",
    "y = pd.get_dummies(salData['Q10_Encoded'])\n",
    "\n",
    "x.head()"
   ]
  },
  {
   "cell_type": "code",
   "execution_count": 23,
   "metadata": {},
   "outputs": [
    {
     "data": {
      "text/html": [
       "<div>\n",
       "<style scoped>\n",
       "    .dataframe tbody tr th:only-of-type {\n",
       "        vertical-align: middle;\n",
       "    }\n",
       "\n",
       "    .dataframe tbody tr th {\n",
       "        vertical-align: top;\n",
       "    }\n",
       "\n",
       "    .dataframe thead th {\n",
       "        text-align: right;\n",
       "    }\n",
       "</style>\n",
       "<table border=\"1\" class=\"dataframe\">\n",
       "  <thead>\n",
       "    <tr style=\"text-align: right;\">\n",
       "      <th></th>\n",
       "      <th>0</th>\n",
       "      <th>1</th>\n",
       "      <th>2</th>\n",
       "      <th>3</th>\n",
       "      <th>4</th>\n",
       "      <th>5</th>\n",
       "      <th>6</th>\n",
       "      <th>7</th>\n",
       "      <th>8</th>\n",
       "      <th>9</th>\n",
       "      <th>10</th>\n",
       "      <th>11</th>\n",
       "      <th>12</th>\n",
       "      <th>13</th>\n",
       "      <th>14</th>\n",
       "    </tr>\n",
       "  </thead>\n",
       "  <tbody>\n",
       "    <tr>\n",
       "      <td>0</td>\n",
       "      <td>0</td>\n",
       "      <td>0</td>\n",
       "      <td>0</td>\n",
       "      <td>1</td>\n",
       "      <td>0</td>\n",
       "      <td>0</td>\n",
       "      <td>0</td>\n",
       "      <td>0</td>\n",
       "      <td>0</td>\n",
       "      <td>0</td>\n",
       "      <td>0</td>\n",
       "      <td>0</td>\n",
       "      <td>0</td>\n",
       "      <td>0</td>\n",
       "      <td>0</td>\n",
       "    </tr>\n",
       "    <tr>\n",
       "      <td>1</td>\n",
       "      <td>1</td>\n",
       "      <td>0</td>\n",
       "      <td>0</td>\n",
       "      <td>0</td>\n",
       "      <td>0</td>\n",
       "      <td>0</td>\n",
       "      <td>0</td>\n",
       "      <td>0</td>\n",
       "      <td>0</td>\n",
       "      <td>0</td>\n",
       "      <td>0</td>\n",
       "      <td>0</td>\n",
       "      <td>0</td>\n",
       "      <td>0</td>\n",
       "      <td>0</td>\n",
       "    </tr>\n",
       "    <tr>\n",
       "      <td>2</td>\n",
       "      <td>0</td>\n",
       "      <td>0</td>\n",
       "      <td>0</td>\n",
       "      <td>0</td>\n",
       "      <td>0</td>\n",
       "      <td>0</td>\n",
       "      <td>0</td>\n",
       "      <td>0</td>\n",
       "      <td>0</td>\n",
       "      <td>0</td>\n",
       "      <td>0</td>\n",
       "      <td>0</td>\n",
       "      <td>0</td>\n",
       "      <td>0</td>\n",
       "      <td>1</td>\n",
       "    </tr>\n",
       "    <tr>\n",
       "      <td>3</td>\n",
       "      <td>1</td>\n",
       "      <td>0</td>\n",
       "      <td>0</td>\n",
       "      <td>0</td>\n",
       "      <td>0</td>\n",
       "      <td>0</td>\n",
       "      <td>0</td>\n",
       "      <td>0</td>\n",
       "      <td>0</td>\n",
       "      <td>0</td>\n",
       "      <td>0</td>\n",
       "      <td>0</td>\n",
       "      <td>0</td>\n",
       "      <td>0</td>\n",
       "      <td>0</td>\n",
       "    </tr>\n",
       "    <tr>\n",
       "      <td>4</td>\n",
       "      <td>0</td>\n",
       "      <td>0</td>\n",
       "      <td>0</td>\n",
       "      <td>0</td>\n",
       "      <td>0</td>\n",
       "      <td>0</td>\n",
       "      <td>1</td>\n",
       "      <td>0</td>\n",
       "      <td>0</td>\n",
       "      <td>0</td>\n",
       "      <td>0</td>\n",
       "      <td>0</td>\n",
       "      <td>0</td>\n",
       "      <td>0</td>\n",
       "      <td>0</td>\n",
       "    </tr>\n",
       "  </tbody>\n",
       "</table>\n",
       "</div>"
      ],
      "text/plain": [
       "   0   1   2   3   4   5   6   7   8   9   10  11  12  13  14\n",
       "0   0   0   0   1   0   0   0   0   0   0   0   0   0   0   0\n",
       "1   1   0   0   0   0   0   0   0   0   0   0   0   0   0   0\n",
       "2   0   0   0   0   0   0   0   0   0   0   0   0   0   0   1\n",
       "3   1   0   0   0   0   0   0   0   0   0   0   0   0   0   0\n",
       "4   0   0   0   0   0   0   1   0   0   0   0   0   0   0   0"
      ]
     },
     "execution_count": 23,
     "metadata": {},
     "output_type": "execute_result"
    }
   ],
   "source": [
    "y.head()"
   ]
  },
  {
   "cell_type": "markdown",
   "metadata": {},
   "source": [
    "The model will be trained and tested on bins 2, 3, and 4 because these are some of the bins that the first model had trouble identifying. "
   ]
  },
  {
   "cell_type": "code",
   "execution_count": 24,
   "metadata": {},
   "outputs": [],
   "source": [
    "x_train, x_test, y_train, y_test = train_test_split(x, y, test_size=0.3, random_state=101)"
   ]
  },
  {
   "cell_type": "code",
   "execution_count": 25,
   "metadata": {},
   "outputs": [
    {
     "name": "stdout",
     "output_type": "stream",
     "text": [
      "The accuracy of the one vs rest type logarithmic regression model for the predictions of bins 2, 3, and 4 is 91.77%, 94.19%, and 93.67% respectively\n"
     ]
    }
   ],
   "source": [
    "logMod2 = LogisticRegression(solver='lbfgs', max_iter=200)\n",
    "logMod2.fit(x_train, y_train[2])\n",
    "pred2 = logMod2.predict(x_test)\n",
    "probAcc2 = accuracy_score(pred2, y_test[2])\n",
    "\n",
    "logMod3 = LogisticRegression(solver='lbfgs', max_iter=200)\n",
    "logMod3.fit(x_train, y_train[3])\n",
    "pred3 = logMod3.predict(x_test)\n",
    "probAcc3 = accuracy_score(pred3, y_test[3])\n",
    "\n",
    "logMod4 = LogisticRegression(solver='lbfgs', max_iter=200)\n",
    "logMod4.fit(x_train, y_train[4])\n",
    "pred4 = logMod2.predict(x_test)\n",
    "probAcc4 = accuracy_score(pred2, y_test[4])\n",
    "\n",
    "print('The accuracy of the one vs rest type logarithmic regression model for the predictions of bins 2, 3, and 4 is {}%, {}%, and {}% respectively'.format(round(probAcc2*100, 2),round(probAcc3*100, 2), round(probAcc4*100, 2)))"
   ]
  },
  {
   "cell_type": "markdown",
   "metadata": {},
   "source": [
    "It can easily be seen that this is a more accurate method of implementation of the logistic regression model and should be further investigated using hyperparameter tuning, and the grid search method to obtain optimal prediction accuracies. It should also be noted that this method does not consider the ordinality of the data however due to the compartively high prediction accuracies it should not matter. "
   ]
  }
 ],
 "metadata": {
  "kernelspec": {
   "display_name": "Python 3",
   "language": "python",
   "name": "python3"
  },
  "language_info": {
   "codemirror_mode": {
    "name": "ipython",
    "version": 3
   },
   "file_extension": ".py",
   "mimetype": "text/x-python",
   "name": "python",
   "nbconvert_exporter": "python",
   "pygments_lexer": "ipython3",
   "version": "3.7.4"
  }
 },
 "nbformat": 4,
 "nbformat_minor": 2
}
